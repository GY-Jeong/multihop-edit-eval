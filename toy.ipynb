{
 "cells": [
  {
   "cell_type": "code",
   "execution_count": 1,
   "metadata": {},
   "outputs": [],
   "source": [
    "import json"
   ]
  },
  {
   "cell_type": "code",
   "execution_count": null,
   "metadata": {},
   "outputs": [
    {
     "name": "stdout",
     "output_type": "stream",
     "text": [
      "Selected 100 entries saved to /home/gy/workspace/KnowledgeEditing/multihop-edit-eval/editing_results/rome_llama3_mquake_2002.json\n",
      "Selected 100 entries saved to /home/gy/workspace/KnowledgeEditing/multihop-edit-eval/editing_results/rome_qwen2_mquake_2002.json\n",
      "Selected 100 entries saved to /home/gy/workspace/KnowledgeEditing/multihop-edit-eval/editing_results/rome_mistral_mquake_2002.json\n"
     ]
    }
   ],
   "source": [
    "import os\n",
    "\n",
    "# 모델 이름 리스트\n",
    "model_names = [\"llama3\", \"qwen2\", \"mistral\"]\n",
    "editor_names = ['rome']\n",
    "\n",
    "for model_name in model_names:\n",
    "    for editor_name in editor_names:\n",
    "        file_path = f\"/home/gy/workspace/KnowledgeEditing/multihop-edit-eval/editing_results/{editor_name}_{model_name}_mquake_2002.json\"\n",
    "        # 파일 로드 및 필터링\n",
    "        with open(file_path, 'r', encoding='utf-8') as file:\n",
    "            data = json.load(file)[:100]\n",
    "        \n",
    "        with open(file_path.replace('.json', '_sample.json'), 'w', encoding='utf-8') as output_file:\n",
    "            json.dump(data, output_file, ensure_ascii=False, indent=4)\n",
    "\n",
    "        print(f\"Selected {len(data)} entries saved to {file_path}\")"
   ]
  },
  {
   "cell_type": "code",
   "execution_count": null,
   "metadata": {},
   "outputs": [],
   "source": []
  }
 ],
 "metadata": {
  "kernelspec": {
   "display_name": "ke",
   "language": "python",
   "name": "python3"
  },
  "language_info": {
   "codemirror_mode": {
    "name": "ipython",
    "version": 3
   },
   "file_extension": ".py",
   "mimetype": "text/x-python",
   "name": "python",
   "nbconvert_exporter": "python",
   "pygments_lexer": "ipython3",
   "version": "3.10.16"
  }
 },
 "nbformat": 4,
 "nbformat_minor": 2
}
